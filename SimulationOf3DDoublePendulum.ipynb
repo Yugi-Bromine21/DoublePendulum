{
 "cells": [
  {
   "cell_type": "code",
   "execution_count": 1,
   "id": "e7c402c4-2a59-44d3-9903-0c48f4489a18",
   "metadata": {},
   "outputs": [],
   "source": [
    "import numpy as np\n",
    "import sympy as smp\n",
    "from scipy.integrate import odeint\n",
    "import matplotlib.pyplot as plt"
   ]
  },
  {
   "cell_type": "code",
   "execution_count": 2,
   "id": "2388fb10-64a0-4514-9fcb-91579afb8df0",
   "metadata": {},
   "outputs": [],
   "source": [
    "t,g=smp.symbols('t g')\n",
    "m1,m2=smp.symbols('m1 m2')\n",
    "L1,L2=smp.symbols('L1,L2')"
   ]
  },
  {
   "cell_type": "code",
   "execution_count": 5,
   "id": "ab079653-8a05-429a-9542-ab0f08da45c6",
   "metadata": {},
   "outputs": [],
   "source": [
    "the1,the2,phi1,phi2=smp.symbols(r'\\theta_1 \\theta_2 \\phi_1 \\phi_2',cls=smp.Function)"
   ]
  },
  {
   "cell_type": "code",
   "execution_count": 6,
   "id": "56c7f095-c9ba-4b82-8442-38622eacf7ad",
   "metadata": {},
   "outputs": [],
   "source": [
    "the1=the1(t)\n",
    "the2=the2(t)\n",
    "phi1=phi1(t)\n",
    "phi2=phi2(t)\n"
   ]
  },
  {
   "cell_type": "code",
   "execution_count": 7,
   "id": "e51cdfb3-527f-40ca-946f-b25521ee8037",
   "metadata": {},
   "outputs": [
    {
     "data": {
      "text/latex": [
       "$\\displaystyle \\theta_{1}{\\left(t \\right)}$"
      ],
      "text/plain": [
       "\\theta_1(t)"
      ]
     },
     "execution_count": 7,
     "metadata": {},
     "output_type": "execute_result"
    }
   ],
   "source": [
    "the1"
   ]
  },
  {
   "cell_type": "code",
   "execution_count": 8,
   "id": "41cbc7b3-5f9b-4776-99d3-59aa514c6029",
   "metadata": {},
   "outputs": [],
   "source": [
    "the1_d=smp.diff(the1,t)\n",
    "the2_d=smp.diff(the2,t)\n",
    "phi1_d=smp.diff(phi1,t)\n",
    "phi2_d=smp.diff(phi2,t)\n",
    "the1_dd=smp.diff(the1_d,t)\n",
    "the2_dd=smp.diff(the2_d,t)\n",
    "phi1_dd=smp.diff(phi1_d,t)\n",
    "phi2_dd=smp.diff(phi2_d,t)"
   ]
  },
  {
   "cell_type": "code",
   "execution_count": 9,
   "id": "42e28ea3-63b3-45b3-85f1-4eee3810c4dc",
   "metadata": {},
   "outputs": [
    {
     "data": {
      "text/latex": [
       "$\\displaystyle \\frac{d^{2}}{d t^{2}} \\phi_{2}{\\left(t \\right)}$"
      ],
      "text/plain": [
       "Derivative(\\phi_2(t), (t, 2))"
      ]
     },
     "execution_count": 9,
     "metadata": {},
     "output_type": "execute_result"
    }
   ],
   "source": [
    "phi2_dd"
   ]
  },
  {
   "cell_type": "code",
   "execution_count": 13,
   "id": "dabf04be-d7fc-4241-982d-349e431aea67",
   "metadata": {},
   "outputs": [],
   "source": [
    "x1=L1*smp.sin(the1)*smp.cos(phi1)\n",
    "y1=L1*smp.sin(the1)*smp.sin(phi1)\n",
    "z1= -L1*smp.cos(the1)\n",
    "x2=x1+L2*smp.sin(the2)*smp.cos(phi2)\n",
    "y2=y1+L2*smp.sin(the2)*smp.sin(phi2)\n",
    "z2= z1-L2*smp.cos(the2)"
   ]
  },
  {
   "cell_type": "code",
   "execution_count": 17,
   "id": "87a65a36-0dd8-4992-9302-54578f2bfb1e",
   "metadata": {},
   "outputs": [
    {
     "data": {
      "text/latex": [
       "$\\displaystyle L_{1} \\sin{\\left(\\phi_{1}{\\left(t \\right)} \\right)} \\sin{\\left(\\theta_{1}{\\left(t \\right)} \\right)} + L_{2} \\sin{\\left(\\phi_{2}{\\left(t \\right)} \\right)} \\sin{\\left(\\theta_{2}{\\left(t \\right)} \\right)}$"
      ],
      "text/plain": [
       "L1*sin(\\phi_1(t))*sin(\\theta_1(t)) + L2*sin(\\phi_2(t))*sin(\\theta_2(t))"
      ]
     },
     "execution_count": 17,
     "metadata": {},
     "output_type": "execute_result"
    }
   ],
   "source": [
    "x1\n",
    "y2"
   ]
  },
  {
   "cell_type": "code",
   "execution_count": 18,
   "id": "fb587af7-d6a2-4bd3-9e62-bd9436846f80",
   "metadata": {},
   "outputs": [],
   "source": [
    "x1_f=smp.lambdify((the1,the2,phi1,phi2,L1,L2),x1)\n",
    "y1_f=smp.lambdify((the1,the2,phi1,phi2,L1,L2),y1)\n",
    "z1_f=smp.lambdify((the1,the2,phi1,phi2,L1,L2),z1)\n",
    "x2_f=smp.lambdify((the1,the2,phi1,phi2,L1,L2),x2)\n",
    "y2_f=smp.lambdify((the1,the2,phi1,phi2,L1,L2),y2)\n",
    "z2_f=smp.lambdify((the1,the2,phi1,phi2,L1,L2),z2)"
   ]
  },
  {
   "cell_type": "code",
   "execution_count": 19,
   "id": "5776eb60-555b-4170-9b17-1de73b686356",
   "metadata": {},
   "outputs": [
    {
     "data": {
      "text/plain": [
       "<function _lambdifygenerated(_Dummy_57, _Dummy_56, _Dummy_59, _Dummy_58, L1, L2)>"
      ]
     },
     "execution_count": 19,
     "metadata": {},
     "output_type": "execute_result"
    }
   ],
   "source": [
    "z2_f"
   ]
  },
  {
   "cell_type": "code",
   "execution_count": 21,
   "id": "3dbdcd41-b82b-4b81-9094-a899074108f5",
   "metadata": {},
   "outputs": [],
   "source": [
    "T1=1/2*m1*(smp.diff(x1,t)**2+smp.diff(y1,t)**2+smp.diff(z1,t)**2)\n",
    "T2=1/2*m2*(smp.diff(x2,t)**2+smp.diff(y2,t)**2+smp.diff(z2,t)**2)\n",
    "T=T1+T2\n",
    "V1=m1*g*z1\n",
    "V2=m2*g*z2\n",
    "V=V1+V2\n",
    "L=T-V"
   ]
  },
  {
   "cell_type": "code",
   "execution_count": 22,
   "id": "ec76bb28-f12b-4a05-b25c-ca7fcf4df94e",
   "metadata": {},
   "outputs": [
    {
     "data": {
      "text/latex": [
       "$\\displaystyle L_{1} g m_{1} \\cos{\\left(\\theta_{1}{\\left(t \\right)} \\right)} - g m_{2} \\left(- L_{1} \\cos{\\left(\\theta_{1}{\\left(t \\right)} \\right)} - L_{2} \\cos{\\left(\\theta_{2}{\\left(t \\right)} \\right)}\\right) + 0.5 m_{1} \\left(L_{1}^{2} \\sin^{2}{\\left(\\theta_{1}{\\left(t \\right)} \\right)} \\left(\\frac{d}{d t} \\theta_{1}{\\left(t \\right)}\\right)^{2} + \\left(- L_{1} \\sin{\\left(\\phi_{1}{\\left(t \\right)} \\right)} \\sin{\\left(\\theta_{1}{\\left(t \\right)} \\right)} \\frac{d}{d t} \\phi_{1}{\\left(t \\right)} + L_{1} \\cos{\\left(\\phi_{1}{\\left(t \\right)} \\right)} \\cos{\\left(\\theta_{1}{\\left(t \\right)} \\right)} \\frac{d}{d t} \\theta_{1}{\\left(t \\right)}\\right)^{2} + \\left(L_{1} \\sin{\\left(\\phi_{1}{\\left(t \\right)} \\right)} \\cos{\\left(\\theta_{1}{\\left(t \\right)} \\right)} \\frac{d}{d t} \\theta_{1}{\\left(t \\right)} + L_{1} \\sin{\\left(\\theta_{1}{\\left(t \\right)} \\right)} \\cos{\\left(\\phi_{1}{\\left(t \\right)} \\right)} \\frac{d}{d t} \\phi_{1}{\\left(t \\right)}\\right)^{2}\\right) + 0.5 m_{2} \\left(\\left(L_{1} \\sin{\\left(\\theta_{1}{\\left(t \\right)} \\right)} \\frac{d}{d t} \\theta_{1}{\\left(t \\right)} + L_{2} \\sin{\\left(\\theta_{2}{\\left(t \\right)} \\right)} \\frac{d}{d t} \\theta_{2}{\\left(t \\right)}\\right)^{2} + \\left(- L_{1} \\sin{\\left(\\phi_{1}{\\left(t \\right)} \\right)} \\sin{\\left(\\theta_{1}{\\left(t \\right)} \\right)} \\frac{d}{d t} \\phi_{1}{\\left(t \\right)} + L_{1} \\cos{\\left(\\phi_{1}{\\left(t \\right)} \\right)} \\cos{\\left(\\theta_{1}{\\left(t \\right)} \\right)} \\frac{d}{d t} \\theta_{1}{\\left(t \\right)} - L_{2} \\sin{\\left(\\phi_{2}{\\left(t \\right)} \\right)} \\sin{\\left(\\theta_{2}{\\left(t \\right)} \\right)} \\frac{d}{d t} \\phi_{2}{\\left(t \\right)} + L_{2} \\cos{\\left(\\phi_{2}{\\left(t \\right)} \\right)} \\cos{\\left(\\theta_{2}{\\left(t \\right)} \\right)} \\frac{d}{d t} \\theta_{2}{\\left(t \\right)}\\right)^{2} + \\left(L_{1} \\sin{\\left(\\phi_{1}{\\left(t \\right)} \\right)} \\cos{\\left(\\theta_{1}{\\left(t \\right)} \\right)} \\frac{d}{d t} \\theta_{1}{\\left(t \\right)} + L_{1} \\sin{\\left(\\theta_{1}{\\left(t \\right)} \\right)} \\cos{\\left(\\phi_{1}{\\left(t \\right)} \\right)} \\frac{d}{d t} \\phi_{1}{\\left(t \\right)} + L_{2} \\sin{\\left(\\phi_{2}{\\left(t \\right)} \\right)} \\cos{\\left(\\theta_{2}{\\left(t \\right)} \\right)} \\frac{d}{d t} \\theta_{2}{\\left(t \\right)} + L_{2} \\sin{\\left(\\theta_{2}{\\left(t \\right)} \\right)} \\cos{\\left(\\phi_{2}{\\left(t \\right)} \\right)} \\frac{d}{d t} \\phi_{2}{\\left(t \\right)}\\right)^{2}\\right)$"
      ],
      "text/plain": [
       "L1*g*m1*cos(\\theta_1(t)) - g*m2*(-L1*cos(\\theta_1(t)) - L2*cos(\\theta_2(t))) + 0.5*m1*(L1**2*sin(\\theta_1(t))**2*Derivative(\\theta_1(t), t)**2 + (-L1*sin(\\phi_1(t))*sin(\\theta_1(t))*Derivative(\\phi_1(t), t) + L1*cos(\\phi_1(t))*cos(\\theta_1(t))*Derivative(\\theta_1(t), t))**2 + (L1*sin(\\phi_1(t))*cos(\\theta_1(t))*Derivative(\\theta_1(t), t) + L1*sin(\\theta_1(t))*cos(\\phi_1(t))*Derivative(\\phi_1(t), t))**2) + 0.5*m2*((L1*sin(\\theta_1(t))*Derivative(\\theta_1(t), t) + L2*sin(\\theta_2(t))*Derivative(\\theta_2(t), t))**2 + (-L1*sin(\\phi_1(t))*sin(\\theta_1(t))*Derivative(\\phi_1(t), t) + L1*cos(\\phi_1(t))*cos(\\theta_1(t))*Derivative(\\theta_1(t), t) - L2*sin(\\phi_2(t))*sin(\\theta_2(t))*Derivative(\\phi_2(t), t) + L2*cos(\\phi_2(t))*cos(\\theta_2(t))*Derivative(\\theta_2(t), t))**2 + (L1*sin(\\phi_1(t))*cos(\\theta_1(t))*Derivative(\\theta_1(t), t) + L1*sin(\\theta_1(t))*cos(\\phi_1(t))*Derivative(\\phi_1(t), t) + L2*sin(\\phi_2(t))*cos(\\theta_2(t))*Derivative(\\theta_2(t), t) + L2*sin(\\theta_2(t))*cos(\\phi_2(t))*Derivative(\\phi_2(t), t))**2)"
      ]
     },
     "execution_count": 22,
     "metadata": {},
     "output_type": "execute_result"
    }
   ],
   "source": [
    "L"
   ]
  },
  {
   "cell_type": "code",
   "execution_count": 25,
   "id": "d1f2a0aa-44e7-4655-8488-9e86f4c18298",
   "metadata": {},
   "outputs": [],
   "source": [
    "LE1=smp.diff(L,the1)-smp.diff(smp.diff(L,the1_d),t).simplify()\n",
    "LE2=smp.diff(L,the2)-smp.diff(smp.diff(L,the2_d),t).simplify()\n",
    "LE3=smp.diff(L,phi1)-smp.diff(smp.diff(L,phi1_d),t).simplify()\n",
    "LE4=smp.diff(L,phi2)-smp.diff(smp.diff(L,phi2_d),t).simplify()"
   ]
  },
  {
   "cell_type": "code",
   "execution_count": 30,
   "id": "58ed3dfe-e321-44cc-a68a-678499df6830",
   "metadata": {},
   "outputs": [
    {
     "data": {
      "text/latex": [
       "$\\displaystyle - L_{1} g m_{1} \\sin{\\left(\\theta_{1}{\\left(t \\right)} \\right)} - L_{1} g m_{2} \\sin{\\left(\\theta_{1}{\\left(t \\right)} \\right)} - L_{1} \\left(L_{1} m_{1} \\frac{d^{2}}{d t^{2}} \\theta_{1}{\\left(t \\right)} + L_{1} m_{2} \\frac{d^{2}}{d t^{2}} \\theta_{1}{\\left(t \\right)} - L_{2} m_{2} \\sin{\\left(\\phi_{1}{\\left(t \\right)} - \\phi_{2}{\\left(t \\right)} \\right)} \\sin{\\left(\\theta_{1}{\\left(t \\right)} \\right)} \\sin{\\left(\\theta_{2}{\\left(t \\right)} \\right)} \\frac{d}{d t} \\phi_{2}{\\left(t \\right)} \\frac{d}{d t} \\theta_{1}{\\left(t \\right)} + L_{2} m_{2} \\sin{\\left(\\phi_{1}{\\left(t \\right)} - \\phi_{2}{\\left(t \\right)} \\right)} \\sin{\\left(\\theta_{2}{\\left(t \\right)} \\right)} \\cos{\\left(\\theta_{1}{\\left(t \\right)} \\right)} \\frac{d^{2}}{d t^{2}} \\phi_{2}{\\left(t \\right)} - L_{2} m_{2} \\sin{\\left(\\phi_{1}{\\left(t \\right)} - \\phi_{2}{\\left(t \\right)} \\right)} \\cos{\\left(\\theta_{1}{\\left(t \\right)} \\right)} \\cos{\\left(\\theta_{2}{\\left(t \\right)} \\right)} \\frac{d}{d t} \\phi_{1}{\\left(t \\right)} \\frac{d}{d t} \\theta_{2}{\\left(t \\right)} + 2 L_{2} m_{2} \\sin{\\left(\\phi_{1}{\\left(t \\right)} - \\phi_{2}{\\left(t \\right)} \\right)} \\cos{\\left(\\theta_{1}{\\left(t \\right)} \\right)} \\cos{\\left(\\theta_{2}{\\left(t \\right)} \\right)} \\frac{d}{d t} \\phi_{2}{\\left(t \\right)} \\frac{d}{d t} \\theta_{2}{\\left(t \\right)} + L_{2} m_{2} \\sin{\\left(\\theta_{1}{\\left(t \\right)} \\right)} \\sin{\\left(\\theta_{2}{\\left(t \\right)} \\right)} \\frac{d^{2}}{d t^{2}} \\theta_{2}{\\left(t \\right)} - L_{2} m_{2} \\sin{\\left(\\theta_{1}{\\left(t \\right)} \\right)} \\cos{\\left(\\phi_{1}{\\left(t \\right)} - \\phi_{2}{\\left(t \\right)} \\right)} \\cos{\\left(\\theta_{2}{\\left(t \\right)} \\right)} \\frac{d}{d t} \\theta_{1}{\\left(t \\right)} \\frac{d}{d t} \\theta_{2}{\\left(t \\right)} + L_{2} m_{2} \\sin{\\left(\\theta_{1}{\\left(t \\right)} \\right)} \\cos{\\left(\\theta_{2}{\\left(t \\right)} \\right)} \\left(\\frac{d}{d t} \\theta_{2}{\\left(t \\right)}\\right)^{2} + L_{2} m_{2} \\sin{\\left(\\theta_{2}{\\left(t \\right)} \\right)} \\cos{\\left(\\phi_{1}{\\left(t \\right)} - \\phi_{2}{\\left(t \\right)} \\right)} \\cos{\\left(\\theta_{1}{\\left(t \\right)} \\right)} \\frac{d}{d t} \\phi_{1}{\\left(t \\right)} \\frac{d}{d t} \\phi_{2}{\\left(t \\right)} - L_{2} m_{2} \\sin{\\left(\\theta_{2}{\\left(t \\right)} \\right)} \\cos{\\left(\\phi_{1}{\\left(t \\right)} - \\phi_{2}{\\left(t \\right)} \\right)} \\cos{\\left(\\theta_{1}{\\left(t \\right)} \\right)} \\left(\\frac{d}{d t} \\phi_{2}{\\left(t \\right)}\\right)^{2} - L_{2} m_{2} \\sin{\\left(\\theta_{2}{\\left(t \\right)} \\right)} \\cos{\\left(\\phi_{1}{\\left(t \\right)} - \\phi_{2}{\\left(t \\right)} \\right)} \\cos{\\left(\\theta_{1}{\\left(t \\right)} \\right)} \\left(\\frac{d}{d t} \\theta_{2}{\\left(t \\right)}\\right)^{2} + L_{2} m_{2} \\sin{\\left(\\theta_{2}{\\left(t \\right)} \\right)} \\cos{\\left(\\theta_{1}{\\left(t \\right)} \\right)} \\frac{d}{d t} \\theta_{1}{\\left(t \\right)} \\frac{d}{d t} \\theta_{2}{\\left(t \\right)} + L_{2} m_{2} \\cos{\\left(\\phi_{1}{\\left(t \\right)} - \\phi_{2}{\\left(t \\right)} \\right)} \\cos{\\left(\\theta_{1}{\\left(t \\right)} \\right)} \\cos{\\left(\\theta_{2}{\\left(t \\right)} \\right)} \\frac{d^{2}}{d t^{2}} \\theta_{2}{\\left(t \\right)}\\right) + 0.5 m_{1} \\cdot \\left(2 L_{1}^{2} \\sin{\\left(\\theta_{1}{\\left(t \\right)} \\right)} \\cos{\\left(\\theta_{1}{\\left(t \\right)} \\right)} \\left(\\frac{d}{d t} \\theta_{1}{\\left(t \\right)}\\right)^{2} + \\left(- L_{1} \\sin{\\left(\\phi_{1}{\\left(t \\right)} \\right)} \\sin{\\left(\\theta_{1}{\\left(t \\right)} \\right)} \\frac{d}{d t} \\phi_{1}{\\left(t \\right)} + L_{1} \\cos{\\left(\\phi_{1}{\\left(t \\right)} \\right)} \\cos{\\left(\\theta_{1}{\\left(t \\right)} \\right)} \\frac{d}{d t} \\theta_{1}{\\left(t \\right)}\\right) \\left(- 2 L_{1} \\sin{\\left(\\phi_{1}{\\left(t \\right)} \\right)} \\cos{\\left(\\theta_{1}{\\left(t \\right)} \\right)} \\frac{d}{d t} \\phi_{1}{\\left(t \\right)} - 2 L_{1} \\sin{\\left(\\theta_{1}{\\left(t \\right)} \\right)} \\cos{\\left(\\phi_{1}{\\left(t \\right)} \\right)} \\frac{d}{d t} \\theta_{1}{\\left(t \\right)}\\right) + \\left(- 2 L_{1} \\sin{\\left(\\phi_{1}{\\left(t \\right)} \\right)} \\sin{\\left(\\theta_{1}{\\left(t \\right)} \\right)} \\frac{d}{d t} \\theta_{1}{\\left(t \\right)} + 2 L_{1} \\cos{\\left(\\phi_{1}{\\left(t \\right)} \\right)} \\cos{\\left(\\theta_{1}{\\left(t \\right)} \\right)} \\frac{d}{d t} \\phi_{1}{\\left(t \\right)}\\right) \\left(L_{1} \\sin{\\left(\\phi_{1}{\\left(t \\right)} \\right)} \\cos{\\left(\\theta_{1}{\\left(t \\right)} \\right)} \\frac{d}{d t} \\theta_{1}{\\left(t \\right)} + L_{1} \\sin{\\left(\\theta_{1}{\\left(t \\right)} \\right)} \\cos{\\left(\\phi_{1}{\\left(t \\right)} \\right)} \\frac{d}{d t} \\phi_{1}{\\left(t \\right)}\\right)\\right) + 0.5 m_{2} \\cdot \\left(2 L_{1} \\left(L_{1} \\sin{\\left(\\theta_{1}{\\left(t \\right)} \\right)} \\frac{d}{d t} \\theta_{1}{\\left(t \\right)} + L_{2} \\sin{\\left(\\theta_{2}{\\left(t \\right)} \\right)} \\frac{d}{d t} \\theta_{2}{\\left(t \\right)}\\right) \\cos{\\left(\\theta_{1}{\\left(t \\right)} \\right)} \\frac{d}{d t} \\theta_{1}{\\left(t \\right)} + \\left(- 2 L_{1} \\sin{\\left(\\phi_{1}{\\left(t \\right)} \\right)} \\sin{\\left(\\theta_{1}{\\left(t \\right)} \\right)} \\frac{d}{d t} \\theta_{1}{\\left(t \\right)} + 2 L_{1} \\cos{\\left(\\phi_{1}{\\left(t \\right)} \\right)} \\cos{\\left(\\theta_{1}{\\left(t \\right)} \\right)} \\frac{d}{d t} \\phi_{1}{\\left(t \\right)}\\right) \\left(L_{1} \\sin{\\left(\\phi_{1}{\\left(t \\right)} \\right)} \\cos{\\left(\\theta_{1}{\\left(t \\right)} \\right)} \\frac{d}{d t} \\theta_{1}{\\left(t \\right)} + L_{1} \\sin{\\left(\\theta_{1}{\\left(t \\right)} \\right)} \\cos{\\left(\\phi_{1}{\\left(t \\right)} \\right)} \\frac{d}{d t} \\phi_{1}{\\left(t \\right)} + L_{2} \\sin{\\left(\\phi_{2}{\\left(t \\right)} \\right)} \\cos{\\left(\\theta_{2}{\\left(t \\right)} \\right)} \\frac{d}{d t} \\theta_{2}{\\left(t \\right)} + L_{2} \\sin{\\left(\\theta_{2}{\\left(t \\right)} \\right)} \\cos{\\left(\\phi_{2}{\\left(t \\right)} \\right)} \\frac{d}{d t} \\phi_{2}{\\left(t \\right)}\\right) + \\left(- 2 L_{1} \\sin{\\left(\\phi_{1}{\\left(t \\right)} \\right)} \\cos{\\left(\\theta_{1}{\\left(t \\right)} \\right)} \\frac{d}{d t} \\phi_{1}{\\left(t \\right)} - 2 L_{1} \\sin{\\left(\\theta_{1}{\\left(t \\right)} \\right)} \\cos{\\left(\\phi_{1}{\\left(t \\right)} \\right)} \\frac{d}{d t} \\theta_{1}{\\left(t \\right)}\\right) \\left(- L_{1} \\sin{\\left(\\phi_{1}{\\left(t \\right)} \\right)} \\sin{\\left(\\theta_{1}{\\left(t \\right)} \\right)} \\frac{d}{d t} \\phi_{1}{\\left(t \\right)} + L_{1} \\cos{\\left(\\phi_{1}{\\left(t \\right)} \\right)} \\cos{\\left(\\theta_{1}{\\left(t \\right)} \\right)} \\frac{d}{d t} \\theta_{1}{\\left(t \\right)} - L_{2} \\sin{\\left(\\phi_{2}{\\left(t \\right)} \\right)} \\sin{\\left(\\theta_{2}{\\left(t \\right)} \\right)} \\frac{d}{d t} \\phi_{2}{\\left(t \\right)} + L_{2} \\cos{\\left(\\phi_{2}{\\left(t \\right)} \\right)} \\cos{\\left(\\theta_{2}{\\left(t \\right)} \\right)} \\frac{d}{d t} \\theta_{2}{\\left(t \\right)}\\right)\\right)$"
      ],
      "text/plain": [
       "-L1*g*m1*sin(\\theta_1(t)) - L1*g*m2*sin(\\theta_1(t)) - L1*(L1*m1*Derivative(\\theta_1(t), (t, 2)) + L1*m2*Derivative(\\theta_1(t), (t, 2)) - L2*m2*sin(\\phi_1(t) - \\phi_2(t))*sin(\\theta_1(t))*sin(\\theta_2(t))*Derivative(\\phi_2(t), t)*Derivative(\\theta_1(t), t) + L2*m2*sin(\\phi_1(t) - \\phi_2(t))*sin(\\theta_2(t))*cos(\\theta_1(t))*Derivative(\\phi_2(t), (t, 2)) - L2*m2*sin(\\phi_1(t) - \\phi_2(t))*cos(\\theta_1(t))*cos(\\theta_2(t))*Derivative(\\phi_1(t), t)*Derivative(\\theta_2(t), t) + 2*L2*m2*sin(\\phi_1(t) - \\phi_2(t))*cos(\\theta_1(t))*cos(\\theta_2(t))*Derivative(\\phi_2(t), t)*Derivative(\\theta_2(t), t) + L2*m2*sin(\\theta_1(t))*sin(\\theta_2(t))*Derivative(\\theta_2(t), (t, 2)) - L2*m2*sin(\\theta_1(t))*cos(\\phi_1(t) - \\phi_2(t))*cos(\\theta_2(t))*Derivative(\\theta_1(t), t)*Derivative(\\theta_2(t), t) + L2*m2*sin(\\theta_1(t))*cos(\\theta_2(t))*Derivative(\\theta_2(t), t)**2 + L2*m2*sin(\\theta_2(t))*cos(\\phi_1(t) - \\phi_2(t))*cos(\\theta_1(t))*Derivative(\\phi_1(t), t)*Derivative(\\phi_2(t), t) - L2*m2*sin(\\theta_2(t))*cos(\\phi_1(t) - \\phi_2(t))*cos(\\theta_1(t))*Derivative(\\phi_2(t), t)**2 - L2*m2*sin(\\theta_2(t))*cos(\\phi_1(t) - \\phi_2(t))*cos(\\theta_1(t))*Derivative(\\theta_2(t), t)**2 + L2*m2*sin(\\theta_2(t))*cos(\\theta_1(t))*Derivative(\\theta_1(t), t)*Derivative(\\theta_2(t), t) + L2*m2*cos(\\phi_1(t) - \\phi_2(t))*cos(\\theta_1(t))*cos(\\theta_2(t))*Derivative(\\theta_2(t), (t, 2))) + 0.5*m1*(2*L1**2*sin(\\theta_1(t))*cos(\\theta_1(t))*Derivative(\\theta_1(t), t)**2 + (-L1*sin(\\phi_1(t))*sin(\\theta_1(t))*Derivative(\\phi_1(t), t) + L1*cos(\\phi_1(t))*cos(\\theta_1(t))*Derivative(\\theta_1(t), t))*(-2*L1*sin(\\phi_1(t))*cos(\\theta_1(t))*Derivative(\\phi_1(t), t) - 2*L1*sin(\\theta_1(t))*cos(\\phi_1(t))*Derivative(\\theta_1(t), t)) + (-2*L1*sin(\\phi_1(t))*sin(\\theta_1(t))*Derivative(\\theta_1(t), t) + 2*L1*cos(\\phi_1(t))*cos(\\theta_1(t))*Derivative(\\phi_1(t), t))*(L1*sin(\\phi_1(t))*cos(\\theta_1(t))*Derivative(\\theta_1(t), t) + L1*sin(\\theta_1(t))*cos(\\phi_1(t))*Derivative(\\phi_1(t), t))) + 0.5*m2*(2*L1*(L1*sin(\\theta_1(t))*Derivative(\\theta_1(t), t) + L2*sin(\\theta_2(t))*Derivative(\\theta_2(t), t))*cos(\\theta_1(t))*Derivative(\\theta_1(t), t) + (-2*L1*sin(\\phi_1(t))*sin(\\theta_1(t))*Derivative(\\theta_1(t), t) + 2*L1*cos(\\phi_1(t))*cos(\\theta_1(t))*Derivative(\\phi_1(t), t))*(L1*sin(\\phi_1(t))*cos(\\theta_1(t))*Derivative(\\theta_1(t), t) + L1*sin(\\theta_1(t))*cos(\\phi_1(t))*Derivative(\\phi_1(t), t) + L2*sin(\\phi_2(t))*cos(\\theta_2(t))*Derivative(\\theta_2(t), t) + L2*sin(\\theta_2(t))*cos(\\phi_2(t))*Derivative(\\phi_2(t), t)) + (-2*L1*sin(\\phi_1(t))*cos(\\theta_1(t))*Derivative(\\phi_1(t), t) - 2*L1*sin(\\theta_1(t))*cos(\\phi_1(t))*Derivative(\\theta_1(t), t))*(-L1*sin(\\phi_1(t))*sin(\\theta_1(t))*Derivative(\\phi_1(t), t) + L1*cos(\\phi_1(t))*cos(\\theta_1(t))*Derivative(\\theta_1(t), t) - L2*sin(\\phi_2(t))*sin(\\theta_2(t))*Derivative(\\phi_2(t), t) + L2*cos(\\phi_2(t))*cos(\\theta_2(t))*Derivative(\\theta_2(t), t)))"
      ]
     },
     "execution_count": 30,
     "metadata": {},
     "output_type": "execute_result"
    }
   ],
   "source": [
    "LE1"
   ]
  },
  {
   "cell_type": "code",
   "execution_count": null,
   "id": "aab6b710-be6d-4420-ab2b-32197231b85f",
   "metadata": {},
   "outputs": [],
   "source": [
    "sols=smp.solve([LE1,LE2,LE3,LE4],(the1_dd,the2_dd,phi1_dd,phi2_dd),simplify=False,rational=False)"
   ]
  },
  {
   "cell_type": "code",
   "execution_count": null,
   "id": "81318453-b68a-4dd0-8e30-ffe744c650aa",
   "metadata": {},
   "outputs": [],
   "source": [
    "do1dt_f=smp.lambdify((t,g,m1,m2,L1,L2,the1,the2,the1_d,the2_d,phi1,phi2,phi1_d,phi2_d),sols[the1_dd])\n",
    "do2dt_f=smp.lambdify((t,g,m1,m2,L1,L2,the1,the2,the1_d,the2_d,phi1,phi2,phi1_d,phi2_d),sols[the2_dd])\n",
    "dthe1dt_f=smp.lambdify(the1_d,the1_d)\n",
    "dthe2dt_f=smp.lambdify(the2_d,the2_d)\n",
    "\n",
    "dw1dt_f=smp.lambdify((t,g,m1,m2,L1,L2,the1,the2,the1_d,the2_d,phi1,phi2,phi1_d,phi2_d),sols[phi1_dd])\n",
    "dw2dt_f=smp.lambdify((t,g,m1,m2,L1,L2,the1,the2,the1_d,the2_d,phi1,phi2,phi1_d,phi2_d),sols[phi2_dd])\n",
    "\n",
    "dphi1dt_f=smp.lambdify(phi1_d,phi1_d)\n",
    "dphi2dt_f=smp.lambdify(phi2_d,phi2_d)"
   ]
  },
  {
   "cell_type": "code",
   "execution_count": null,
   "id": "dd78fc8b-6e10-45db-a812-84f00287f03c",
   "metadata": {},
   "outputs": [],
   "source": [
    "def dSdt(S,t,g,m1,m2,L1,L2):\n",
    "    the1,the2,phi1,phi2,o1,o2,w1,w2=S\n",
    "    return[dthe1dt_f(o1),dthe2dt_f(o2),dphi1dt_f(w1),dphi2dt_f(w2),do1dt_f(t,g,m1,m2,L1,L2,the1,the2,o1,o2,phi1,phi2,w1,w2),do2dt_f(t,g,m1,m2,L1,L2,the1,the2,o1,o2,phi1,phi2,w1,w2),dw1dt_f(t,g,m1,m2,L1,L2,the1,the2,o1,o2,phi1,phi2,w1,w2),dw2dt_f(t,g,m1,m2,L1,L2,the1,the2,o1,o2,phi1,phi2,w1,w2)]\n",
    "    "
   ]
  },
  {
   "cell_type": "code",
   "execution_count": null,
   "id": "482b30a1-64cf-41d0-9f6a-833ab910e3dc",
   "metadata": {},
   "outputs": [],
   "source": [
    "t=np.linspace(0,40,1001)\n",
    "g=9.81\n",
    "m1=2\n",
    "m2=3\n",
    "L1=3\n",
    "L2=1\n",
    "ans=odeint(dSdt,y0=[np.pi/3,np.pi/3,0,-np.pi,3,4,-3,-4],t=t,args=(g,m1,m2,L1,L2))\n"
   ]
  },
  {
   "cell_type": "code",
   "execution_count": null,
   "id": "1393a64f-dcc5-411e-b337-a2ca517e0976",
   "metadata": {},
   "outputs": [],
   "source": [
    "the1=ans.T[0]\n",
    "the2=ans.T[1]"
   ]
  },
  {
   "cell_type": "code",
   "execution_count": null,
   "id": "8d303065-c28c-459b-b49c-2baaf6afe27b",
   "metadata": {},
   "outputs": [],
   "source": [
    "plt.plot(t,the1)\n",
    "plt.show()"
   ]
  },
  {
   "cell_type": "code",
   "execution_count": null,
   "id": "624af37a-f7e9-43c5-b3c9-cb9b6229fd94",
   "metadata": {},
   "outputs": [],
   "source": []
  }
 ],
 "metadata": {
  "kernelspec": {
   "display_name": "Python 3 (ipykernel)",
   "language": "python",
   "name": "python3"
  },
  "language_info": {
   "codemirror_mode": {
    "name": "ipython",
    "version": 3
   },
   "file_extension": ".py",
   "mimetype": "text/x-python",
   "name": "python",
   "nbconvert_exporter": "python",
   "pygments_lexer": "ipython3",
   "version": "3.11.7"
  }
 },
 "nbformat": 4,
 "nbformat_minor": 5
}
